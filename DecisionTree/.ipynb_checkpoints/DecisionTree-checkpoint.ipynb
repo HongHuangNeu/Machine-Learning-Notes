{
 "cells": [
  {
   "cell_type": "markdown",
   "metadata": {},
   "source": [
    "# Decision Tree"
   ]
  },
  {
   "cell_type": "code",
   "execution_count": 1,
   "metadata": {
    "collapsed": true
   },
   "outputs": [],
   "source": [
    "import pandas as pd\n",
    "import matplotlib.pyplot as plt\n",
    "from numpy  import *"
   ]
  },
  {
   "cell_type": "code",
   "execution_count": null,
   "metadata": {
    "collapsed": true
   },
   "outputs": [],
   "source": []
  },
  {
   "cell_type": "code",
   "execution_count": null,
   "metadata": {
    "collapsed": true
   },
   "outputs": [],
   "source": []
  },
  {
   "cell_type": "code",
   "execution_count": null,
   "metadata": {
    "collapsed": true
   },
   "outputs": [],
   "source": []
  },
  {
   "cell_type": "markdown",
   "metadata": {},
   "source": [
    "## Plot Decision Tree\n",
    "\n",
    "In the book **Machine Learning in Action**, visualize the decision tree is way more complex than understanding and building the tree itself. Let's not waste time on that. Here we print it out in an understanderable way. First let's build an example of tree to visualize."
   ]
  },
  {
   "cell_type": "code",
   "execution_count": 49,
   "metadata": {
    "collapsed": false
   },
   "outputs": [
    {
     "data": {
      "text/plain": [
       "{'no surfacing': {0: 'no', 1: {'flippers': {0: 'no', 1: 'yes'}}}}"
      ]
     },
     "execution_count": 49,
     "metadata": {},
     "output_type": "execute_result"
    }
   ],
   "source": [
    "tree={}\n",
    "tree['no surfacing']={}\n",
    "tree['no surfacing'][0]='no'\n",
    "tree['no surfacing'][1]={}\n",
    "tree['no surfacing'][1]['flippers']={}\n",
    "tree['no surfacing'][1]['flippers'][0]='no'\n",
    "tree['no surfacing'][1]['flippers'][1]='yes'\n",
    "tree"
   ]
  },
  {
   "cell_type": "markdown",
   "metadata": {},
   "source": [
    "Now we visualize the tree recursively. For every node and every feature value we start a new line. The feature name and values are preceeded with \"+\". The number of \"+\" is determined by the level of the node and feature value. The feature name and the corresponding feature value comes at the same level. \n",
    "\n",
    "Once we enter a new subtree, the first key is always the feature name to check (because of the way we recurse). We print out this feature name, with the right number of preceeding \"+\". Then we enumerate all the values of this feature. For each feature value, we print them with the same number of preceeding \"+\" and then go into the subtree. If the object corresponding to the feature value is not a dict, it is a label, and we just print it out. "
   ]
  },
  {
   "cell_type": "code",
   "execution_count": 52,
   "metadata": {
    "collapsed": false
   },
   "outputs": [],
   "source": [
    "#This function print text with a specified number of \"+\"\n",
    "def printSeq(text,numberOfWhiteSpaces):\n",
    "        #because of a very strange feature of notebook: every now statement begin in a new line, therefore no explicit newline needed here\n",
    "        #print(\"\\n\")\n",
    "        s=\" \"\n",
    "        for i in range(numberOfWhiteSpaces):\n",
    "            s=s+\" +\"\n",
    "        print(s,text)    \n",
    "def printTree(tree, numberOfWhiteSpaces):\n",
    "    if type(tree).__name__=='dict':\n",
    "        firstStr=list(tree.keys())[0] #name of feature to check\n",
    "    printSeq(firstStr,numberOfWhiteSpaces)    \n",
    "    secondDict=tree[firstStr]\n",
    "    for key in secondDict.keys(): #This time, each key is a feature value\n",
    "        printSeq(\"value: \"+str(key),numberOfWhiteSpaces)\n",
    "        if type(secondDict[key]).__name__=='dict':          \n",
    "            printTree(secondDict[key],numberOfWhiteSpaces+1)\n",
    "        else:\n",
    "            printSeq(\"label: \"+secondDict[key],numberOfWhiteSpaces+1)"
   ]
  },
  {
   "cell_type": "code",
   "execution_count": 53,
   "metadata": {
    "collapsed": false
   },
   "outputs": [
    {
     "name": "stdout",
     "output_type": "stream",
     "text": [
      "  no surfacing\n",
      "  value: 0\n",
      "  + label: no\n",
      "  value: 1\n",
      "  + flippers\n",
      "  + value: 0\n",
      "  + + label: no\n",
      "  + value: 1\n",
      "  + + label: yes\n"
     ]
    }
   ],
   "source": [
    "printTree(tree,0)"
   ]
  },
  {
   "cell_type": "code",
   "execution_count": 24,
   "metadata": {
    "collapsed": false
   },
   "outputs": [
    {
     "name": "stdout",
     "output_type": "stream",
     "text": [
      "\t\n",
      "\t\n",
      "\t\n",
      "a\n"
     ]
    }
   ],
   "source": [
    "\n",
    "print(\"\\t\")\n",
    "print(\"\\t\")\n",
    "print(\"\\t\")\n",
    "print(\"a\")"
   ]
  },
  {
   "cell_type": "code",
   "execution_count": null,
   "metadata": {
    "collapsed": true
   },
   "outputs": [],
   "source": []
  }
 ],
 "metadata": {
  "anaconda-cloud": {},
  "kernelspec": {
   "display_name": "Python [default]",
   "language": "python",
   "name": "python3"
  },
  "language_info": {
   "codemirror_mode": {
    "name": "ipython",
    "version": 3
   },
   "file_extension": ".py",
   "mimetype": "text/x-python",
   "name": "python",
   "nbconvert_exporter": "python",
   "pygments_lexer": "ipython3",
   "version": "3.5.2"
  }
 },
 "nbformat": 4,
 "nbformat_minor": 1
}
