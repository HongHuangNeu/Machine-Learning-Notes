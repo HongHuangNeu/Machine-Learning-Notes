{
 "cells": [
  {
   "cell_type": "markdown",
   "metadata": {},
   "source": [
    "## kNN classifier"
   ]
  },
  {
   "cell_type": "code",
   "execution_count": 81,
   "metadata": {
    "collapsed": false
   },
   "outputs": [
    {
     "data": {
      "text/html": [
       "<div>\n",
       "<table border=\"1\" class=\"dataframe\">\n",
       "  <thead>\n",
       "    <tr style=\"text-align: right;\">\n",
       "      <th></th>\n",
       "      <th>fre_flier_miles_earned_per_year</th>\n",
       "      <th>per_of_time_spent_playing_video_games</th>\n",
       "      <th>liters_of_ice_cream_consumed_per_year</th>\n",
       "      <th>label</th>\n",
       "    </tr>\n",
       "  </thead>\n",
       "  <tbody>\n",
       "    <tr>\n",
       "      <th>0</th>\n",
       "      <td>40920</td>\n",
       "      <td>8.326976</td>\n",
       "      <td>0.953952</td>\n",
       "      <td>3</td>\n",
       "    </tr>\n",
       "    <tr>\n",
       "      <th>1</th>\n",
       "      <td>14488</td>\n",
       "      <td>7.153469</td>\n",
       "      <td>1.673904</td>\n",
       "      <td>2</td>\n",
       "    </tr>\n",
       "    <tr>\n",
       "      <th>2</th>\n",
       "      <td>26052</td>\n",
       "      <td>1.441871</td>\n",
       "      <td>0.805124</td>\n",
       "      <td>1</td>\n",
       "    </tr>\n",
       "  </tbody>\n",
       "</table>\n",
       "</div>"
      ],
      "text/plain": [
       "   fre_flier_miles_earned_per_year  per_of_time_spent_playing_video_games  \\\n",
       "0                            40920                               8.326976   \n",
       "1                            14488                               7.153469   \n",
       "2                            26052                               1.441871   \n",
       "\n",
       "   liters_of_ice_cream_consumed_per_year  label  \n",
       "0                               0.953952      3  \n",
       "1                               1.673904      2  \n",
       "2                               0.805124      1  "
      ]
     },
     "execution_count": 81,
     "metadata": {},
     "output_type": "execute_result"
    }
   ],
   "source": [
    "import pandas as pd\n",
    "import matplotlib.pyplot as plt\n",
    "from numpy  import *\n",
    "url=\"https://coding.net/u/HongHuangNeu/p/Machine-Learning-Notes-Data/git/raw/master/DatingData/datingTestSet2.txt\"\n",
    "df=pd.read_csv(url,sep='\\t')\n",
    "df[:3]"
   ]
  },
  {
   "cell_type": "markdown",
   "metadata": {},
   "source": [
    "Let's visualize the data set. First"
   ]
  },
  {
   "cell_type": "code",
   "execution_count": 82,
   "metadata": {
    "collapsed": false
   },
   "outputs": [
    {
     "data": {
      "text/html": [
       "<div>\n",
       "<table border=\"1\" class=\"dataframe\">\n",
       "  <thead>\n",
       "    <tr style=\"text-align: right;\">\n",
       "      <th></th>\n",
       "      <th>fre_flier_miles_earned_per_year</th>\n",
       "      <th>per_of_time_spent_playing_video_games</th>\n",
       "      <th>liters_of_ice_cream_consumed_per_year</th>\n",
       "    </tr>\n",
       "    <tr>\n",
       "      <th>label</th>\n",
       "      <th></th>\n",
       "      <th></th>\n",
       "      <th></th>\n",
       "    </tr>\n",
       "  </thead>\n",
       "  <tbody>\n",
       "    <tr>\n",
       "      <th>3</th>\n",
       "      <td>40920</td>\n",
       "      <td>8.326976</td>\n",
       "      <td>0.953952</td>\n",
       "    </tr>\n",
       "    <tr>\n",
       "      <th>2</th>\n",
       "      <td>14488</td>\n",
       "      <td>7.153469</td>\n",
       "      <td>1.673904</td>\n",
       "    </tr>\n",
       "    <tr>\n",
       "      <th>1</th>\n",
       "      <td>26052</td>\n",
       "      <td>1.441871</td>\n",
       "      <td>0.805124</td>\n",
       "    </tr>\n",
       "  </tbody>\n",
       "</table>\n",
       "</div>"
      ],
      "text/plain": [
       "       fre_flier_miles_earned_per_year  per_of_time_spent_playing_video_games  \\\n",
       "label                                                                           \n",
       "3                                40920                               8.326976   \n",
       "2                                14488                               7.153469   \n",
       "1                                26052                               1.441871   \n",
       "\n",
       "       liters_of_ice_cream_consumed_per_year  \n",
       "label                                         \n",
       "3                                   0.953952  \n",
       "2                                   1.673904  \n",
       "1                                   0.805124  "
      ]
     },
     "execution_count": 82,
     "metadata": {},
     "output_type": "execute_result"
    }
   ],
   "source": [
    "indexed_df = df.set_index(['label'])\n",
    "indexed_df[:3]"
   ]
  },
  {
   "cell_type": "code",
   "execution_count": 83,
   "metadata": {
    "collapsed": false
   },
   "outputs": [],
   "source": [
    "#cmap = {1.0: 'red', 2.0: 'blue', 3.0: 'yellow'}\n",
    "\n",
    "#df.plot(x='liters_of_ice_cream_consumed_per_year', y='per_of_time_spent_playing_video_games', kind='scatter', c=[cmap.get(c, 'black') for c in df.label])\n",
    "\n",
    "#plt.show()"
   ]
  },
  {
   "cell_type": "code",
   "execution_count": 84,
   "metadata": {
    "collapsed": false
   },
   "outputs": [],
   "source": [
    "matrix=df.values\n",
    "labels=matrix[:,3]   #the 3rd column is the label column\n",
    "features=matrix[:,0:3] #the 0th to 2nd column is the feature columns\n"
   ]
  },
  {
   "cell_type": "markdown",
   "metadata": {},
   "source": [
    "### Define the classification function"
   ]
  },
  {
   "cell_type": "code",
   "execution_count": 85,
   "metadata": {
    "collapsed": false
   },
   "outputs": [],
   "source": [
    "def classify(x,trainingSet,labels,k):\n",
    "    numberOfRows=trainingSet.shape[0];\n",
    "    # repeat x for numberOfRows times \n",
    "    xs=tile(x,(numberOfRows,1))\n",
    "    #calculate the difference of coordinates for each dimension\n",
    "    diff=trainingSet-xs\n",
    "    #calculate the square of the differences\n",
    "    square=diff*diff\n",
    "    #calculate distances\n",
    "    distances=(square.sum(axis=1))**0.5\n",
    "    \n",
    "    #sort the distances\n",
    "    sortedIndexes=distances.argsort()\n",
    "    #calculate the frequencies of classes in top k\n",
    "    classCount={}\n",
    "    for i in range(k):\n",
    "        label=labels[sortedIndexes[i]]\n",
    "        if label in classCount:\n",
    "            classCount[label]=classCount[label]+1\n",
    "        else:\n",
    "            classCount[label]=1\n",
    "    #sort the resulted map by value\n",
    "    sortedClassLabels=sorted(classCount.items(),key=lambda x: x[1],reverse=True)\n",
    "    return sortedClassLabels[0][0]\n",
    "\n",
    "\n",
    "    "
   ]
  },
  {
   "cell_type": "markdown",
   "metadata": {},
   "source": [
    "Let's play with this classifier first"
   ]
  },
  {
   "cell_type": "code",
   "execution_count": 86,
   "metadata": {
    "collapsed": false
   },
   "outputs": [
    {
     "data": {
      "text/plain": [
       "2.0"
      ]
     },
     "execution_count": 86,
     "metadata": {},
     "output_type": "execute_result"
    }
   ],
   "source": [
    "#play with this classifier first\n",
    "x=array([1,2,3]) #vector to classify\n",
    "classify(x,features,labels,3)"
   ]
  },
  {
   "cell_type": "markdown",
   "metadata": {},
   "source": [
    "## Normalization\n",
    "\n",
    "$$newValue=\\frac{oldValue-minValue}{maxValue-minValue}$$"
   ]
  },
  {
   "cell_type": "code",
   "execution_count": 87,
   "metadata": {
    "collapsed": true
   },
   "outputs": [],
   "source": [
    "# this function process training set\n",
    "def norm(dataSet):\n",
    "    minValue=dataSet.min(axis=0)\n",
    "    maxValue=dataSet.max(axis=0)\n",
    "    numberOfRows=dataSet.shape[0]\n",
    "    minValues=tile(minValue,(numberOfRows,1))\n",
    "    maxValues=tile(maxValue,(numberOfRows,1))\n",
    "    diff=maxValues-minValues\n",
    "    normedDataSet=zeros(shape(dataSet))\n",
    "    normedDataSet=(dataSet-minValues)/diff\n",
    "    return normedDataSet,minValue,maxValue\n",
    "\n",
    "#this function process the data point to classify\n",
    "#it takes the min values and max values calculated from the training set\n",
    "def getValue(testPoint,minValue,maxValue):\n",
    "    normedTestSet=zeros(shape(testPoint))\n",
    "    diff=maxValue-minValue\n",
    "    normedTestPoint=(testPoint-minValue)/diff\n",
    "    return normedTestPoint\n",
    "    \n",
    "    "
   ]
  },
  {
   "cell_type": "markdown",
   "metadata": {},
   "source": [
    "call this norm function to normalize the data point and do the classification"
   ]
  },
  {
   "cell_type": "code",
   "execution_count": 88,
   "metadata": {
    "collapsed": false
   },
   "outputs": [
    {
     "data": {
      "text/plain": [
       "2.0"
      ]
     },
     "execution_count": 88,
     "metadata": {},
     "output_type": "execute_result"
    }
   ],
   "source": [
    "normedTrainSet,minValue,maxValue=norm(features)\n",
    "newX=getValue(x,minValue,maxValue)\n",
    "classify(newX,normedTrainSet,labels,3)\n"
   ]
  },
  {
   "cell_type": "markdown",
   "metadata": {},
   "source": [
    "## Test the classifier\n",
    "Use part of the training data set as test set"
   ]
  },
  {
   "cell_type": "code",
   "execution_count": 89,
   "metadata": {
    "collapsed": false
   },
   "outputs": [],
   "source": [
    "def testClassifier(ratio,dataSet,labels):\n",
    "    normalizedDataSet,minValue,maxValue=norm(dataSet)\n",
    "    numberOfRows=dataSet.shape[0]\n",
    "    numberOfTestPoints=int(numberOfRows*ratio)\n",
    "    totalCount=0\n",
    "    errorCount=0\n",
    "    for i in range(numberOfTestPoints):\n",
    "        x=normalizedDataSet[i]\n",
    "        label=classify(x,normalizedDataSet[numberOfTestPoints:numberOfRows],labels[numberOfTestPoints:numberOfRows],3)\n",
    "        totalCount=totalCount+1\n",
    "        if(label!=labels[i]):\n",
    "            errorCount=errorCount+1\n",
    "        \n",
    "    errorRate=errorCount/totalCount\n",
    "    return errorRate\n",
    "\n"
   ]
  },
  {
   "cell_type": "markdown",
   "metadata": {},
   "source": [
    "Use to 10% of the data points as test data set to test the classifier"
   ]
  },
  {
   "cell_type": "code",
   "execution_count": 90,
   "metadata": {
    "collapsed": false
   },
   "outputs": [
    {
     "data": {
      "text/plain": [
       "0.05"
      ]
     },
     "execution_count": 90,
     "metadata": {},
     "output_type": "execute_result"
    }
   ],
   "source": [
    "testClassifier(0.1,features,labels)"
   ]
  }
 ],
 "metadata": {
  "anaconda-cloud": {},
  "kernelspec": {
   "display_name": "Python [default]",
   "language": "python",
   "name": "python3"
  },
  "language_info": {
   "codemirror_mode": {
    "name": "ipython",
    "version": 3
   },
   "file_extension": ".py",
   "mimetype": "text/x-python",
   "name": "python",
   "nbconvert_exporter": "python",
   "pygments_lexer": "ipython3",
   "version": "3.5.2"
  }
 },
 "nbformat": 4,
 "nbformat_minor": 1
}
