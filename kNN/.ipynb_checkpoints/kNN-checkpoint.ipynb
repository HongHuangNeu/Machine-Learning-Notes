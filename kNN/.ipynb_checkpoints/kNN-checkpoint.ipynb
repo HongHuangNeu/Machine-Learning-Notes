{
 "cells": [
  {
   "cell_type": "markdown",
   "metadata": {},
   "source": [
    "## kNN classifier"
   ]
  },
  {
   "cell_type": "code",
   "execution_count": 19,
   "metadata": {
    "collapsed": false
   },
   "outputs": [
    {
     "data": {
      "text/html": [
       "<div>\n",
       "<table border=\"1\" class=\"dataframe\">\n",
       "  <thead>\n",
       "    <tr style=\"text-align: right;\">\n",
       "      <th></th>\n",
       "      <th>fre_flier_miles_earned_per_year</th>\n",
       "      <th>per_of_time_spent_playing_video_games</th>\n",
       "      <th>liters_of_ice_cream_consumed_per_year</th>\n",
       "      <th>label</th>\n",
       "    </tr>\n",
       "  </thead>\n",
       "  <tbody>\n",
       "    <tr>\n",
       "      <th>0</th>\n",
       "      <td>40920</td>\n",
       "      <td>8.326976</td>\n",
       "      <td>0.953952</td>\n",
       "      <td>3</td>\n",
       "    </tr>\n",
       "    <tr>\n",
       "      <th>1</th>\n",
       "      <td>14488</td>\n",
       "      <td>7.153469</td>\n",
       "      <td>1.673904</td>\n",
       "      <td>2</td>\n",
       "    </tr>\n",
       "    <tr>\n",
       "      <th>2</th>\n",
       "      <td>26052</td>\n",
       "      <td>1.441871</td>\n",
       "      <td>0.805124</td>\n",
       "      <td>1</td>\n",
       "    </tr>\n",
       "  </tbody>\n",
       "</table>\n",
       "</div>"
      ],
      "text/plain": [
       "   fre_flier_miles_earned_per_year  per_of_time_spent_playing_video_games  \\\n",
       "0                            40920                               8.326976   \n",
       "1                            14488                               7.153469   \n",
       "2                            26052                               1.441871   \n",
       "\n",
       "   liters_of_ice_cream_consumed_per_year  label  \n",
       "0                               0.953952      3  \n",
       "1                               1.673904      2  \n",
       "2                               0.805124      1  "
      ]
     },
     "execution_count": 19,
     "metadata": {},
     "output_type": "execute_result"
    }
   ],
   "source": [
    "import pandas as pd\n",
    "from numpy  import *\n",
    "url=\"https://coding.net/u/HongHuangNeu/p/Machine-Learning-Notes-Data/git/raw/master/DatingData/datingTestSet2.txt\"\n",
    "df=pd.read_csv(url,sep='\\t')\n",
    "df[:3]"
   ]
  },
  {
   "cell_type": "code",
   "execution_count": 20,
   "metadata": {
    "collapsed": false
   },
   "outputs": [],
   "source": [
    "matrix=df.values\n",
    "labels=matrix[:,3]"
   ]
  },
  {
   "cell_type": "code",
   "execution_count": 21,
   "metadata": {
    "collapsed": false
   },
   "outputs": [],
   "source": [
    "features=matrix[:,0:3]\n",
    "\n"
   ]
  },
  {
   "cell_type": "markdown",
   "metadata": {},
   "source": [
    "### Define the classification function"
   ]
  },
  {
   "cell_type": "code",
   "execution_count": 33,
   "metadata": {
    "collapsed": false
   },
   "outputs": [
    {
     "name": "stdout",
     "output_type": "stream",
     "text": [
      "[(2.0, 3)]\n"
     ]
    },
    {
     "data": {
      "text/plain": [
       "2.0"
      ]
     },
     "execution_count": 33,
     "metadata": {},
     "output_type": "execute_result"
    }
   ],
   "source": [
    "def classify(x,trainingSet,labels,k):\n",
    "    numberOfRows=trainingSet.shape[0];\n",
    "    # repeat x for numberOfRows times \n",
    "    xs=tile(x,(numberOfRows,1))\n",
    "    #calculate the difference of coordinates for each dimension\n",
    "    diff=trainingSet-xs\n",
    "    #calculate the square of the differences\n",
    "    square=diff*diff\n",
    "    #calculate distances\n",
    "    distances=(square.sum(axis=1))**0.5\n",
    "    \n",
    "    #sort the distances\n",
    "    sortedIndexes=distances.argsort()\n",
    "    #calculate the frequencies of classes in top k\n",
    "    classCount={}\n",
    "    for i in range(k):\n",
    "        label=labels[sortedIndexes[i]]\n",
    "        if label in classCount:\n",
    "            classCount[label]=classCount[label]+1\n",
    "        else:\n",
    "            classCount[label]=1\n",
    "    sortedClassLabels=sorted(classCount.items(),key=lambda x: x[1],reverse=True)\n",
    "    print(sortedClassLabels)\n",
    "    return sortedClassLabels[0][0]\n",
    "\n",
    "#play with this classifier first\n",
    "x=array([1,2,3])\n",
    "classify(x,features,labels,3)\n",
    "    "
   ]
  },
  {
   "cell_type": "code",
   "execution_count": null,
   "metadata": {
    "collapsed": true
   },
   "outputs": [],
   "source": []
  }
 ],
 "metadata": {
  "anaconda-cloud": {},
  "kernelspec": {
   "display_name": "Python [default]",
   "language": "python",
   "name": "python3"
  },
  "language_info": {
   "codemirror_mode": {
    "name": "ipython",
    "version": 3
   },
   "file_extension": ".py",
   "mimetype": "text/x-python",
   "name": "python",
   "nbconvert_exporter": "python",
   "pygments_lexer": "ipython3",
   "version": "3.5.2"
  }
 },
 "nbformat": 4,
 "nbformat_minor": 1
}
